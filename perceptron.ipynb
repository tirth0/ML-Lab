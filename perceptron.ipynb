{
 "cells": [
  {
   "cell_type": "code",
   "execution_count": 146,
   "metadata": {},
   "outputs": [],
   "source": [
    "from __future__ import print_function\n",
    "import matplotlib,sys\n",
    "import math\n",
    "import pandas as pd\n",
    "from matplotlib import pyplot as plt\n",
    "import numpy as np"
   ]
  },
  {
   "cell_type": "code",
   "execution_count": 147,
   "metadata": {},
   "outputs": [],
   "source": [
    "# Generate Randomised Data dataframe\n",
    "# 100 records\n",
    "# Data format -> x0, x1, x2, x3, bias, target(y)\n",
    "\n",
    "def generate_data():\n",
    "    data = pd.DataFrame(columns=['x0','x1','x2','x3','target'])\n",
    "    for i in range(1000):\n",
    "        x0 = np.random.randint(-1,1)\n",
    "        x1 = np.random.randint(-1,1)\n",
    "        x2 = np.random.randint(-1,1)\n",
    "        x3 = np.random.randint(-1,1)\n",
    "        # The function which the perceptron is trying to mimic:\n",
    "        target = 2*x0 + 3*x1 + 4*x2 + x3\n",
    "        if target > 0:\n",
    "            target = 1\n",
    "        else:\n",
    "            target = 0\n",
    "        data.loc[i] = [x0,x1,x2,x3,target]\n",
    "    return data"
   ]
  },
  {
   "cell_type": "code",
   "execution_count": 148,
   "metadata": {},
   "outputs": [],
   "source": [
    "# Split dataset into training and testing dataset(Dataframe) randomly\n",
    "def split_data(data):\n",
    "    train_data = data.sample(frac=0.5,random_state=200)\n",
    "    test_data = data.drop(train_data.index)\n",
    "    return train_data,test_data"
   ]
  },
  {
   "cell_type": "code",
   "execution_count": 149,
   "metadata": {},
   "outputs": [],
   "source": [
    "def predict(inputs,weights, bias, threshold=10):\n",
    "\tactivation=0.0\n",
    "\tfor i,w in zip(inputs,weights):\n",
    "\t\tactivation += i*w + bias\n",
    "\treturn 1 if activation>=threshold else 0"
   ]
  },
  {
   "cell_type": "code",
   "execution_count": 150,
   "metadata": {},
   "outputs": [],
   "source": [
    "# train a perceptron on generated dataset for n epochs\n",
    "def train(train_data, epochs, bias, weights, learning_rate, should_plot, verbose=False):\n",
    "\t\n",
    "    for epoch in range(epochs):\n",
    "        for index, row in train_data.iterrows():\n",
    "            inputs = [row['x0'],row['x1'],row['x2'],row['x3']]\n",
    "            target = row['target']\n",
    "            prediction = predict(inputs, weights, bias)\n",
    "            error = target - prediction\n",
    "            for i in range(len(weights)):\n",
    "                weights[i] += learning_rate * target * inputs[i]\n",
    "            bias += learning_rate * target\n",
    "            if verbose:\n",
    "                print(\"Epoch:\",epoch,\"Error:\",error,\"Prediction:\",prediction,\"Weights:\",weights)\n",
    "    \n",
    "    return [weights, bias]"
   ]
  },
  {
   "cell_type": "code",
   "execution_count": 151,
   "metadata": {},
   "outputs": [],
   "source": [
    "def test(test_data, weights, bias):\n",
    "    correct = 0\n",
    "    for index, row in test_data.iterrows():\n",
    "        inputs = [row['x0'],row['x1'],row['x2'],row['x3']]\n",
    "        target = row['target']\n",
    "        prediction = predict(inputs, weights, bias)\n",
    "        if prediction == target:\n",
    "            correct += 1\n",
    "    return correct/len(test_data)"
   ]
  },
  {
   "cell_type": "code",
   "execution_count": 152,
   "metadata": {},
   "outputs": [],
   "source": [
    "# plot confusion matrix\n",
    "def plot_confusion_matrix(true_positive, true_negative, false_positive, false_negative):\n",
    "    confusion_matrix = np.array([[true_positive, false_negative], [false_positive, true_negative]])\n",
    "    plt.figure(figsize=(10,10))\n",
    "    plt.imshow(confusion_matrix, interpolation='nearest', cmap=plt.cm.Blues)\n",
    "    plt.title(\"Confusion Matrix\")\n",
    "    plt.colorbar()\n",
    "    tick_marks = np.arange(2)\n",
    "    plt.xticks(tick_marks, [\"Predicted Positive\", \"Predicted Negative\"], rotation=45)\n",
    "    plt.yticks(tick_marks, [\"Actual Positive\", \"Actual Negative\"], rotation=45)\n",
    "    plt.tight_layout()\n",
    "    plt.ylabel('Actual')\n",
    "    plt.xlabel('Predicted')\n",
    "    plt.show()"
   ]
  },
  {
   "cell_type": "code",
   "execution_count": 153,
   "metadata": {},
   "outputs": [],
   "source": [
    "# find accuracy, precision, recall and plot confusion matrix\n",
    "def performance_metrics(test_data, weights, bias, should_plot=True):\n",
    "    correct = 0\n",
    "    true_positive = 0\n",
    "    true_negative = 0\n",
    "    false_positive = 0\n",
    "    false_negative = 0\n",
    "    for index, row in test_data.iterrows():\n",
    "        inputs = [row['x0'],row['x1'],row['x2'],row['x3']]\n",
    "        target = row['target']\n",
    "        prediction = predict(inputs, weights, bias)\n",
    "        print(\"Predicted\",prediction,\"Actual\",target)\n",
    "        if prediction == target:\n",
    "            correct += 1\n",
    "        if prediction == 1 and target == 1:\n",
    "            true_positive += 1\n",
    "        if prediction == 0 and target == 0:\n",
    "            true_negative += 1\n",
    "        if prediction == 1 and target == 0:\n",
    "            false_positive += 1\n",
    "        if prediction == 0 and target == 1:\n",
    "            false_negative += 1\n",
    "    accuracy = correct/len(test_data)\n",
    "    precision = true_positive/(true_positive+false_positive)\n",
    "    recall = true_positive/(true_positive+false_negative)\n",
    "    print(\"True Positive:\",true_positive,\"True Negative:\",true_negative,\"False Positive:\",false_positive,\"False Negative:\",false_negative)\n",
    "    print(\"Accuracy:\",accuracy,\"Precision:\",precision,\"Recall:\",recall)\n",
    "    if should_plot:\n",
    "        plot_confusion_matrix(true_positive, true_negative, false_positive, false_negative)\n",
    "\n"
   ]
  },
  {
   "cell_type": "code",
   "execution_count": null,
   "metadata": {},
   "outputs": [],
   "source": [
    "data = generate_data()\n",
    "train_data, test_data = split_data(data)\n",
    "\n",
    "#train data\n",
    "learning_rate = 0.1\n",
    "epochs = 100\n",
    "bias = 0\n",
    "weights = [0,0,0,0]\n",
    "weights, bias = train(train_data, epochs, bias, weights, learning_rate, True)\n",
    "print(len(test_data))\n",
    "print(test(test_data, weights, bias))\n",
    "performance_metrics(test_data, weights, bias)\n"
   ]
  }
 ],
 "metadata": {
  "interpreter": {
   "hash": "f9f85f796d01129d0dd105a088854619f454435301f6ffec2fea96ecbd9be4ac"
  },
  "kernelspec": {
   "display_name": "Python 3.9.10 64-bit",
   "language": "python",
   "name": "python3"
  },
  "language_info": {
   "codemirror_mode": {
    "name": "ipython",
    "version": 3
   },
   "file_extension": ".py",
   "mimetype": "text/x-python",
   "name": "python",
   "nbconvert_exporter": "python",
   "pygments_lexer": "ipython3",
   "version": "3.8.10"
  },
  "orig_nbformat": 4
 },
 "nbformat": 4,
 "nbformat_minor": 2
}
